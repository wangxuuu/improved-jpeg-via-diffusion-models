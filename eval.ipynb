{
 "cells": [
  {
   "cell_type": "code",
   "execution_count": 1,
   "metadata": {},
   "outputs": [],
   "source": [
    "from models.utils import *\n",
    "import torch\n",
    "import torch.nn as nn\n",
    "import torch.nn.functional as F\n",
    "import numpy as np\n",
    "import torchvision\n",
    "import functools\n",
    "from torch.optim import Adam\n",
    "from torch.utils.data import DataLoader\n",
    "import torchvision.transforms as transforms\n",
    "from torchvision.datasets import MNIST\n",
    "import tqdm\n",
    "from models.diffusion_model import *"
   ]
  },
  {
   "cell_type": "code",
   "execution_count": 2,
   "metadata": {},
   "outputs": [],
   "source": [
    "device = 'cuda' #@param ['cuda', 'cpu'] {'type':'string'}\n",
    "\n",
    "sigma =  25.0#@param {'type':'number'}\n",
    "marginal_prob_std_fn = functools.partial(marginal_prob_std, sigma=sigma)\n",
    "diffusion_coeff_fn = functools.partial(diffusion_coeff, sigma=sigma)\n",
    "\n",
    "score_model = torch.nn.DataParallel(ScoreNet(marginal_prob_std=marginal_prob_std_fn, z_dim=784))\n",
    "score_model = score_model.to(device)\n",
    "\n",
    "## size of a mini-batch\n",
    "batch_size =  64 #@param {'type':'integer'}\n",
    "\n",
    "\n",
    "dataset = MNIST('../data/', train=True, transform=transforms.ToTensor(), download=True)\n",
    "data_loader = DataLoader(dataset, batch_size=batch_size, shuffle=True, num_workers=4)"
   ]
  },
  {
   "cell_type": "code",
   "execution_count": 3,
   "metadata": {},
   "outputs": [],
   "source": [
    "dataset = MNIST('../data/', train=True, transform=transforms.ToTensor(), download=True)\n",
    "data_loader = DataLoader(dataset, batch_size=batch_size, shuffle=True, num_workers=4)"
   ]
  },
  {
   "cell_type": "code",
   "execution_count": 4,
   "metadata": {},
   "outputs": [],
   "source": [
    "from torchvision.utils import make_grid\n",
    "from models.samplers import *\n",
    "\n",
    "## Load the pre-trained checkpoint from disk.\n",
    "device = 'cuda' #@param ['cuda', 'cpu'] {'type':'string'}\n",
    "ckpt = torch.load('ckpt.pth', map_location=device)\n",
    "score_model.load_state_dict(ckpt)\n",
    "\n",
    "from models.jscc import *\n",
    "autoencoder = Autoencoder(in_channels=1,\n",
    "                c=8,\n",
    "                snr=0)\n",
    "autoencoder.load_state_dict(torch.load('./checkpoints/jscc.pt', map_location=device))\n",
    "\n",
    "autoencoder.to(device)\n",
    "score_model.to(device)\n",
    "\n",
    "sample_batch_size = 64 #@param {'type':'integer'}\n",
    "sampler = ode_sampler #@param ['Euler_Maruyama_sampler', 'pc_sampler', 'ode_sampler'] {'type': 'raw'}"
   ]
  },
  {
   "cell_type": "code",
   "execution_count": 5,
   "metadata": {},
   "outputs": [],
   "source": [
    "from torchmetrics.image.psnr import PeakSignalNoiseRatio\n",
    "from torchmetrics.functional import structural_similarity_index_measure\n",
    "\n",
    "ssim = structural_similarity_index_measure\n",
    "psnr = PeakSignalNoiseRatio().to('cuda')\n",
    "\n",
    "jpeg_ssim = 0\n",
    "jpeg_psnr = 0\n",
    "diff_ssim = 0\n",
    "diff_psnr = 0"
   ]
  },
  {
   "cell_type": "code",
   "execution_count": 6,
   "metadata": {},
   "outputs": [
    {
     "name": "stderr",
     "output_type": "stream",
     "text": [
      "/home/wangxu/Documents/projects/improved-jpeg-via-diffusion-models/models/diffusion_model.py:141: UserWarning: To copy construct from a tensor, it is recommended to use sourceTensor.clone().detach() or sourceTensor.clone().detach().requires_grad_(True), rather than torch.tensor(sourceTensor).\n",
      "  t = torch.tensor(t, device=device)\n",
      "/home/wangxu/Documents/projects/improved-jpeg-via-diffusion-models/models/diffusion_model.py:154: UserWarning: To copy construct from a tensor, it is recommended to use sourceTensor.clone().detach() or sourceTensor.clone().detach().requires_grad_(True), rather than torch.tensor(sourceTensor).\n",
      "  return torch.tensor(sigma**t, device=device)\n"
     ]
    },
    {
     "name": "stdout",
     "output_type": "stream",
     "text": [
      "Iter: 20, Diff Quality: 1, SSIM: 0.7829, PSNR: 20.4960\n",
      "Iter: 20, JPEG Quality: 1, SSIM: 0.7513, PSNR: 18.8884\n",
      "Iter: 40, Diff Quality: 1, SSIM: 0.7863, PSNR: 20.5055\n",
      "Iter: 40, JPEG Quality: 1, SSIM: 0.7541, PSNR: 18.8593\n",
      "Iter: 60, Diff Quality: 1, SSIM: 0.7862, PSNR: 20.4875\n",
      "Iter: 60, JPEG Quality: 1, SSIM: 0.7537, PSNR: 18.8382\n",
      "Iter: 80, Diff Quality: 1, SSIM: 0.7858, PSNR: 20.4825\n",
      "Iter: 80, JPEG Quality: 1, SSIM: 0.7535, PSNR: 18.8457\n",
      "Iter: 100, Diff Quality: 1, SSIM: 0.7855, PSNR: 20.4704\n",
      "Iter: 100, JPEG Quality: 1, SSIM: 0.7528, PSNR: 18.8358\n",
      "Iter: 20, Diff Quality: 2, SSIM: 0.7886, PSNR: 20.4576\n",
      "Iter: 20, JPEG Quality: 2, SSIM: 0.7549, PSNR: 18.8018\n",
      "Iter: 40, Diff Quality: 2, SSIM: 0.7856, PSNR: 20.4764\n",
      "Iter: 40, JPEG Quality: 2, SSIM: 0.7531, PSNR: 18.8261\n",
      "Iter: 60, Diff Quality: 2, SSIM: 0.7869, PSNR: 20.4498\n",
      "Iter: 60, JPEG Quality: 2, SSIM: 0.7548, PSNR: 18.8166\n",
      "Iter: 80, Diff Quality: 2, SSIM: 0.7867, PSNR: 20.4561\n",
      "Iter: 80, JPEG Quality: 2, SSIM: 0.7547, PSNR: 18.8217\n",
      "Iter: 100, Diff Quality: 2, SSIM: 0.7868, PSNR: 20.4597\n",
      "Iter: 100, JPEG Quality: 2, SSIM: 0.7549, PSNR: 18.8263\n",
      "Iter: 20, Diff Quality: 3, SSIM: 0.7968, PSNR: 21.0695\n",
      "Iter: 20, JPEG Quality: 3, SSIM: 0.7662, PSNR: 19.3777\n",
      "Iter: 40, Diff Quality: 3, SSIM: 0.7958, PSNR: 21.0795\n",
      "Iter: 40, JPEG Quality: 3, SSIM: 0.7642, PSNR: 19.3775\n",
      "Iter: 60, Diff Quality: 3, SSIM: 0.7958, PSNR: 21.0670\n",
      "Iter: 60, JPEG Quality: 3, SSIM: 0.7646, PSNR: 19.3710\n",
      "Iter: 80, Diff Quality: 3, SSIM: 0.7965, PSNR: 21.0714\n",
      "Iter: 80, JPEG Quality: 3, SSIM: 0.7653, PSNR: 19.3743\n",
      "Iter: 100, Diff Quality: 3, SSIM: 0.7967, PSNR: 21.0688\n",
      "Iter: 100, JPEG Quality: 3, SSIM: 0.7657, PSNR: 19.3649\n",
      "Iter: 20, Diff Quality: 4, SSIM: 0.8037, PSNR: 21.6835\n",
      "Iter: 20, JPEG Quality: 4, SSIM: 0.7570, PSNR: 20.1024\n",
      "Iter: 40, Diff Quality: 4, SSIM: 0.8062, PSNR: 21.6426\n",
      "Iter: 40, JPEG Quality: 4, SSIM: 0.7596, PSNR: 20.0708\n",
      "Iter: 60, Diff Quality: 4, SSIM: 0.8059, PSNR: 21.6665\n",
      "Iter: 60, JPEG Quality: 4, SSIM: 0.7589, PSNR: 20.0852\n",
      "Iter: 80, Diff Quality: 4, SSIM: 0.8070, PSNR: 21.6530\n",
      "Iter: 80, JPEG Quality: 4, SSIM: 0.7601, PSNR: 20.0792\n",
      "Iter: 100, Diff Quality: 4, SSIM: 0.8075, PSNR: 21.6535\n",
      "Iter: 100, JPEG Quality: 4, SSIM: 0.7608, PSNR: 20.0729\n",
      "Iter: 20, Diff Quality: 5, SSIM: 0.8067, PSNR: 22.0447\n",
      "Iter: 20, JPEG Quality: 5, SSIM: 0.7462, PSNR: 20.5578\n",
      "Iter: 40, Diff Quality: 5, SSIM: 0.8066, PSNR: 21.9902\n",
      "Iter: 40, JPEG Quality: 5, SSIM: 0.7469, PSNR: 20.5313\n",
      "Iter: 60, Diff Quality: 5, SSIM: 0.8078, PSNR: 21.9913\n",
      "Iter: 60, JPEG Quality: 5, SSIM: 0.7475, PSNR: 20.5252\n",
      "Iter: 80, Diff Quality: 5, SSIM: 0.8082, PSNR: 21.9762\n",
      "Iter: 80, JPEG Quality: 5, SSIM: 0.7480, PSNR: 20.5190\n",
      "Iter: 100, Diff Quality: 5, SSIM: 0.8080, PSNR: 21.9835\n",
      "Iter: 100, JPEG Quality: 5, SSIM: 0.7481, PSNR: 20.5269\n",
      "Iter: 20, Diff Quality: 6, SSIM: 0.8229, PSNR: 22.2856\n",
      "Iter: 20, JPEG Quality: 6, SSIM: 0.8191, PSNR: 21.3135\n",
      "Iter: 40, Diff Quality: 6, SSIM: 0.8225, PSNR: 22.2480\n",
      "Iter: 40, JPEG Quality: 6, SSIM: 0.8188, PSNR: 21.2939\n",
      "Iter: 60, Diff Quality: 6, SSIM: 0.8212, PSNR: 22.2748\n",
      "Iter: 60, JPEG Quality: 6, SSIM: 0.8180, PSNR: 21.3102\n",
      "Iter: 80, Diff Quality: 6, SSIM: 0.8221, PSNR: 22.2491\n",
      "Iter: 80, JPEG Quality: 6, SSIM: 0.8188, PSNR: 21.2933\n",
      "Iter: 100, Diff Quality: 6, SSIM: 0.8222, PSNR: 22.2490\n",
      "Iter: 100, JPEG Quality: 6, SSIM: 0.8185, PSNR: 21.2858\n",
      "Iter: 20, Diff Quality: 7, SSIM: 0.8242, PSNR: 22.4414\n",
      "Iter: 20, JPEG Quality: 7, SSIM: 0.8319, PSNR: 21.8501\n",
      "Iter: 40, Diff Quality: 7, SSIM: 0.8257, PSNR: 22.4267\n",
      "Iter: 40, JPEG Quality: 7, SSIM: 0.8327, PSNR: 21.8263\n",
      "Iter: 60, Diff Quality: 7, SSIM: 0.8252, PSNR: 22.3999\n",
      "Iter: 60, JPEG Quality: 7, SSIM: 0.8321, PSNR: 21.8280\n",
      "Iter: 80, Diff Quality: 7, SSIM: 0.8258, PSNR: 22.3767\n",
      "Iter: 80, JPEG Quality: 7, SSIM: 0.8325, PSNR: 21.8155\n",
      "Iter: 100, Diff Quality: 7, SSIM: 0.8259, PSNR: 22.3857\n",
      "Iter: 100, JPEG Quality: 7, SSIM: 0.8328, PSNR: 21.8249\n",
      "Iter: 20, Diff Quality: 8, SSIM: 0.8269, PSNR: 22.4292\n",
      "Iter: 20, JPEG Quality: 8, SSIM: 0.8074, PSNR: 22.1207\n",
      "Iter: 40, Diff Quality: 8, SSIM: 0.8261, PSNR: 22.5002\n",
      "Iter: 40, JPEG Quality: 8, SSIM: 0.8067, PSNR: 22.1645\n",
      "Iter: 60, Diff Quality: 8, SSIM: 0.8260, PSNR: 22.5104\n",
      "Iter: 60, JPEG Quality: 8, SSIM: 0.8069, PSNR: 22.1771\n",
      "Iter: 80, Diff Quality: 8, SSIM: 0.8251, PSNR: 22.5132\n",
      "Iter: 80, JPEG Quality: 8, SSIM: 0.8059, PSNR: 22.1837\n",
      "Iter: 100, Diff Quality: 8, SSIM: 0.8248, PSNR: 22.5160\n",
      "Iter: 100, JPEG Quality: 8, SSIM: 0.8056, PSNR: 22.1816\n",
      "Iter: 20, Diff Quality: 9, SSIM: 0.8280, PSNR: 22.5825\n",
      "Iter: 20, JPEG Quality: 9, SSIM: 0.8401, PSNR: 22.5697\n",
      "Iter: 40, Diff Quality: 9, SSIM: 0.8264, PSNR: 22.5658\n",
      "Iter: 40, JPEG Quality: 9, SSIM: 0.8392, PSNR: 22.5683\n",
      "Iter: 60, Diff Quality: 9, SSIM: 0.8271, PSNR: 22.5483\n",
      "Iter: 60, JPEG Quality: 9, SSIM: 0.8393, PSNR: 22.5725\n",
      "Iter: 80, Diff Quality: 9, SSIM: 0.8262, PSNR: 22.5771\n",
      "Iter: 80, JPEG Quality: 9, SSIM: 0.8390, PSNR: 22.5906\n",
      "Iter: 100, Diff Quality: 9, SSIM: 0.8268, PSNR: 22.5701\n",
      "Iter: 100, JPEG Quality: 9, SSIM: 0.8394, PSNR: 22.5853\n",
      "Iter: 20, Diff Quality: 10, SSIM: 0.8267, PSNR: 22.6374\n",
      "Iter: 20, JPEG Quality: 10, SSIM: 0.8521, PSNR: 22.9079\n",
      "Iter: 40, Diff Quality: 10, SSIM: 0.8292, PSNR: 22.6347\n",
      "Iter: 40, JPEG Quality: 10, SSIM: 0.8520, PSNR: 22.8868\n",
      "Iter: 60, Diff Quality: 10, SSIM: 0.8304, PSNR: 22.6365\n",
      "Iter: 60, JPEG Quality: 10, SSIM: 0.8526, PSNR: 22.8798\n",
      "Iter: 80, Diff Quality: 10, SSIM: 0.8310, PSNR: 22.6468\n",
      "Iter: 80, JPEG Quality: 10, SSIM: 0.8525, PSNR: 22.8807\n",
      "Iter: 100, Diff Quality: 10, SSIM: 0.8307, PSNR: 22.6404\n",
      "Iter: 100, JPEG Quality: 10, SSIM: 0.8521, PSNR: 22.8784\n"
     ]
    }
   ],
   "source": [
    "qualities = [1, 2, 3, 4, 5, 6, 7, 8, 9, 10]\n",
    "comp_ratio = []\n",
    "ssim_jpeg_list = []\n",
    "ssim_diff_list = []\n",
    "psnr_jpeg_list = []\n",
    "psnr_diff_list = []\n",
    "# lpips_jpeg_list = []\n",
    "# lpips_diff_list = []\n",
    "select_t = 0.3 #@param {'type':'number'}\n",
    "\n",
    "for quality in qualities:\n",
    "    i = 0\n",
    "    num_items = 0\n",
    "    # jpeg_lpips = 0\n",
    "    jpeg_ssim = 0\n",
    "    jpeg_psnr = 0\n",
    "    # diff_lpips = 0\n",
    "    diff_ssim = 0\n",
    "    diff_psnr = 0\n",
    "    _, (x, y) = next(enumerate(data_loader))\n",
    "    imgs_int = (x.clone().detach()*255).to(dtype=torch.uint8)\n",
    "    # compute the compression ratio\n",
    "    comp_ratio.append(torchvision.io.encode_jpeg(imgs_int[0].cpu(), quality=quality).shape[0]/784)\n",
    "    with torch.no_grad():\n",
    "        for x, y in data_loader:\n",
    "            i += 1\n",
    "            x = x.to(device)\n",
    "            num_items += x.shape[0]\n",
    "            # decode x with jpeg, range 0-1\n",
    "            x_jpeg = jpeg_compress(x, quality=quality).to(device)\n",
    "            # decode with diffusion model\n",
    "            x_ = forward_process(x, marginal_prob_std_fn, 500, device=device, end_t=select_t, only_final=True)\n",
    "            jscc_x = autoencoder(x_)\n",
    "            # range: 0-1\n",
    "            samples = sampler(score_model,\n",
    "                    marginal_prob_std_fn,\n",
    "                    diffusion_coeff_fn,\n",
    "                    sample_batch_size,\n",
    "                    device=device,\n",
    "                    x=jscc_x.detach(),\n",
    "                    z=x_jpeg.reshape(x_jpeg.shape[0], -1),\n",
    "                    start_t=select_t,\n",
    "                    ).type_as(x)\n",
    "            samples = samples.clamp(0.0, 1.0)\n",
    "            # compute the metrics\n",
    "            # jpeg_lpips += lpips(x_jpeg, x).item()\n",
    "            # diff_lpips += lpips(samples, x).item()\n",
    "\n",
    "            jpeg_ssim += ssim(x_jpeg, x).item()\n",
    "            diff_ssim += ssim(samples, x).item()\n",
    "\n",
    "            jpeg_psnr += psnr(x_jpeg, x).item()\n",
    "            diff_psnr += psnr(samples, x).item()\n",
    "\n",
    "            if i % 20 == 0:\n",
    "                print(f'Iter: {i}, Diff Quality: {quality}, SSIM: {diff_ssim/i:.4f}, PSNR: {diff_psnr/i:.4f}')\n",
    "                print(f'Iter: {i}, JPEG Quality: {quality}, SSIM: {jpeg_ssim/i:.4f}, PSNR: {jpeg_psnr/i:.4f}')\n",
    "            if i > 100:\n",
    "                break\n",
    "    # Print the averaged training loss so far.\n",
    "    ssim_jpeg_list.append(jpeg_ssim/i)\n",
    "    ssim_diff_list.append(diff_ssim/i)\n",
    "    psnr_jpeg_list.append(jpeg_psnr/i)\n",
    "    psnr_diff_list.append(diff_psnr/i)\n",
    "    # lpips_jpeg_list.append(jpeg_lpips/num_items)\n",
    "    # lpips_diff_list.append(diff_lpips/num_items)"
   ]
  },
  {
   "cell_type": "code",
   "execution_count": 18,
   "metadata": {},
   "outputs": [],
   "source": [
    "ssim_jpeg_list = [0.7527,\n",
    "  0.7548,\n",
    "  0.7608,\n",
    "  0.7707,\n",
    "  0.7880,\n",
    "  0.8085,\n",
    "  0.8127,\n",
    "  0.8258,\n",
    "  0.8292,\n",
    "  0.8319]\n",
    "\n",
    "ssim_diff_list = [0.7854,\n",
    "  0.7868,\n",
    "  0.7969,\n",
    "  0.8074,\n",
    "  0.8098,\n",
    "  0.8223,\n",
    "  0.8257,\n",
    "  0.8300,\n",
    "  0.8378,\n",
    "  0.8404]"
   ]
  },
  {
   "cell_type": "code",
   "execution_count": 29,
   "metadata": {},
   "outputs": [],
   "source": [
    "psnr_jpeg_list = [18.8271,\n",
    "  18.8364,\n",
    "  19.3633,\n",
    "  20.0757,\n",
    "  20.5261,\n",
    "  21.2845,\n",
    "  21.8268,\n",
    "  22.1790,\n",
    "  22.4879,\n",
    "  22.5301]\n",
    "\n",
    "psnr_diff_list = [20.4525,\n",
    "  20.4799,\n",
    "  21.0669,\n",
    "  21.6561,\n",
    "  21.9831,\n",
    "  22.2463,\n",
    "  22.3862,\n",
    "  22.5154,\n",
    "  22.6728,\n",
    "  22.7423]"
   ]
  },
  {
   "cell_type": "code",
   "execution_count": 27,
   "metadata": {},
   "outputs": [],
   "source": [
    "comp_ratio = [0.45938775510204084,\n",
    " 0.4604591836734694,\n",
    " 0.46683673469387754,\n",
    " 0.4770408163265306,\n",
    " 0.48086734693877553,\n",
    " 0.4885204081632653,\n",
    " 0.49489795918367346,\n",
    " 0.5121326530612245,\n",
    " 0.5197551020408163,\n",
    " 0.5229591836734694,]"
   ]
  },
  {
   "cell_type": "code",
   "execution_count": 36,
   "metadata": {},
   "outputs": [
    {
     "data": {
      "image/png": "[encoded data removed]",
      "text/plain": [
       "<Figure size 432x288 with 1 Axes>"
      ]
     },
     "metadata": {
      "needs_background": "light"
     },
     "output_type": "display_data"
    }
   ],
   "source": [
    "import matplotlib.pyplot as plt\n",
    "\n",
    "plt.plot(comp_ratio, ssim_jpeg_list, 'bo-', label='JPEG')\n",
    "plt.plot(comp_ratio, ssim_diff_list, 'ro-.', label='Ours (Diffusion)')\n",
    "plt.xlabel('Compression Ratio')\n",
    "plt.ylabel('SSIM')\n",
    "plt.legend()\n",
    "plt.savefig('ssim.png')"
   ]
  },
  {
   "cell_type": "code",
   "execution_count": 37,
   "metadata": {},
   "outputs": [
    {
     "data": {
      "image/png": "[encoded data removed]",
      "text/plain": [
       "<Figure size 432x288 with 1 Axes>"
      ]
     },
     "metadata": {
      "needs_background": "light"
     },
     "output_type": "display_data"
    }
   ],
   "source": [
    "plt.plot(comp_ratio, psnr_jpeg_list, 'bo-', label='JPEG')\n",
    "plt.plot(comp_ratio, psnr_diff_list, 'ro-.', label='Ours (Diffusion)')\n",
    "plt.xlabel('Compression Ratio')\n",
    "plt.ylabel('PSNR')\n",
    "plt.legend()\n",
    "plt.savefig('psnr.png')"
   ]
  },
  {
   "cell_type": "code",
   "execution_count": null,
   "metadata": {},
   "outputs": [],
   "source": []
  }
 ],
 "metadata": {
  "kernelspec": {
   "display_name": "torch",
   "language": "python",
   "name": "python3"
  },
  "language_info": {
   "codemirror_mode": {
    "name": "ipython",
    "version": 3
   },
   "file_extension": ".py",
   "mimetype": "text/x-python",
   "name": "python",
   "nbconvert_exporter": "python",
   "pygments_lexer": "ipython3",
   "version": "3.7.7"
  },
  "orig_nbformat": 4,
  "vscode": {
   "interpreter": {
    "hash": "52b3e5fe9304ee37ed6fc02b58fb2a8a470f895336a7b69fe331a7c2f400c80f"
   }
  }
 },
 "nbformat": 4,
 "nbformat_minor": 2
}

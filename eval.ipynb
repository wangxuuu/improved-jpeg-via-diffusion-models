{
 "cells": [
  {
   "cell_type": "code",
   "execution_count": 9,
   "metadata": {},
   "outputs": [],
   "source": [
    "from models.utils import *\n",
    "import torch\n",
    "import torch.nn as nn\n",
    "import torch.nn.functional as F\n",
    "import numpy as np\n",
    "import torchvision\n",
    "import functools\n",
    "from torch.optim import Adam\n",
    "from torch.utils.data import DataLoader\n",
    "import torchvision.transforms as transforms\n",
    "from torchvision.datasets import MNIST\n",
    "import tqdm\n",
    "from models.diffusion_model import *"
   ]
  },
  {
   "cell_type": "code",
   "execution_count": 10,
   "metadata": {},
   "outputs": [],
   "source": [
    "device = 'cuda' #@param ['cuda', 'cpu'] {'type':'string'}\n",
    "\n",
    "sigma =  25.0#@param {'type':'number'}\n",
    "marginal_prob_std_fn = functools.partial(marginal_prob_std, sigma=sigma)\n",
    "diffusion_coeff_fn = functools.partial(diffusion_coeff, sigma=sigma)\n",
    "\n",
    "score_model = torch.nn.DataParallel(ScoreNet(marginal_prob_std=marginal_prob_std_fn, z_dim=784))\n",
    "score_model = score_model.to(device)\n",
    "\n",
    "## size of a mini-batch\n",
    "batch_size =  64 #@param {'type':'integer'}\n",
    "train_snr = 10.0\n",
    "test_snr = 40.0\n",
    "\n",
    "dataset = MNIST('../data/', train=True, transform=transforms.ToTensor(), download=True)\n",
    "data_loader = DataLoader(dataset, batch_size=batch_size, shuffle=True, num_workers=4)"
   ]
  },
  {
   "cell_type": "code",
   "execution_count": 11,
   "metadata": {},
   "outputs": [],
   "source": [
    "dataset = MNIST('../data/', train=True, transform=transforms.ToTensor(), download=True)\n",
    "data_loader = DataLoader(dataset, batch_size=batch_size, shuffle=True, num_workers=4)"
   ]
  },
  {
   "cell_type": "code",
   "execution_count": 12,
   "metadata": {},
   "outputs": [],
   "source": [
    "from torchvision.utils import make_grid\n",
    "from models.samplers import *\n",
    "\n",
    "## Load the pre-trained checkpoint from disk.\n",
    "device = 'cuda' #@param ['cuda', 'cpu'] {'type':'string'}\n",
    "ckpt = torch.load('ckpt.pth', map_location=device)\n",
    "score_model.load_state_dict(ckpt)\n",
    "\n",
    "from models.jscc import *\n",
    "autoencoder = Autoencoder(in_channels=1,\n",
    "                c=8,\n",
    "                snr=test_snr)\n",
    "autoencoder.load_state_dict(torch.load(f'./checkpoints/jscc{train_snr}.pt', map_location=device))\n",
    "\n",
    "autoencoder.to(device)\n",
    "score_model.to(device)\n",
    "\n",
    "sample_batch_size = 64 #@param {'type':'integer'}\n",
    "sampler = ode_sampler #@param ['Euler_Maruyama_sampler', 'pc_sampler', 'ode_sampler'] {'type': 'raw'}"
   ]
  },
  {
   "cell_type": "code",
   "execution_count": 13,
   "metadata": {},
   "outputs": [],
   "source": [
    "from torchmetrics.image.psnr import PeakSignalNoiseRatio\n",
    "from torchmetrics.functional import structural_similarity_index_measure\n",
    "\n",
    "ssim = structural_similarity_index_measure\n",
    "psnr = PeakSignalNoiseRatio().to('cuda')\n",
    "\n",
    "jpeg_ssim = 0\n",
    "jpeg_psnr = 0\n",
    "diff_ssim = 0\n",
    "diff_psnr = 0"
   ]
  },
  {
   "cell_type": "code",
   "execution_count": 14,
   "metadata": {},
   "outputs": [
    {
     "name": "stdout",
     "output_type": "stream",
     "text": [
      "Iter: 20, Diff Quality: 1, SSIM: 0.7891, PSNR: 20.4332\n",
      "Iter: 20, JPEG Quality: 1, SSIM: 0.7561, PSNR: 18.8188\n",
      "Iter: 40, Diff Quality: 1, SSIM: 0.7870, PSNR: 20.4196\n",
      "Iter: 40, JPEG Quality: 1, SSIM: 0.7548, PSNR: 18.8432\n",
      "Iter: 20, Diff Quality: 2, SSIM: 0.7854, PSNR: 20.4219\n",
      "Iter: 20, JPEG Quality: 2, SSIM: 0.7531, PSNR: 18.8302\n",
      "Iter: 40, Diff Quality: 2, SSIM: 0.7882, PSNR: 20.4123\n",
      "Iter: 40, JPEG Quality: 2, SSIM: 0.7553, PSNR: 18.8244\n",
      "Iter: 20, Diff Quality: 3, SSIM: 0.7985, PSNR: 20.9894\n",
      "Iter: 20, JPEG Quality: 3, SSIM: 0.7660, PSNR: 19.3330\n",
      "Iter: 40, Diff Quality: 3, SSIM: 0.7983, PSNR: 20.9788\n",
      "Iter: 40, JPEG Quality: 3, SSIM: 0.7661, PSNR: 19.3498\n",
      "Iter: 20, Diff Quality: 4, SSIM: 0.8098, PSNR: 21.5798\n",
      "Iter: 20, JPEG Quality: 4, SSIM: 0.7622, PSNR: 20.0446\n",
      "Iter: 40, Diff Quality: 4, SSIM: 0.8101, PSNR: 21.5560\n",
      "Iter: 40, JPEG Quality: 4, SSIM: 0.7628, PSNR: 20.0412\n",
      "Iter: 20, Diff Quality: 5, SSIM: 0.8058, PSNR: 21.9247\n",
      "Iter: 20, JPEG Quality: 5, SSIM: 0.7452, PSNR: 20.5599\n",
      "Iter: 40, Diff Quality: 5, SSIM: 0.8072, PSNR: 21.9258\n",
      "Iter: 40, JPEG Quality: 5, SSIM: 0.7464, PSNR: 20.5432\n",
      "Iter: 20, Diff Quality: 6, SSIM: 0.8249, PSNR: 22.1601\n",
      "Iter: 20, JPEG Quality: 6, SSIM: 0.8231, PSNR: 21.3201\n",
      "Iter: 40, Diff Quality: 6, SSIM: 0.8246, PSNR: 22.1946\n",
      "Iter: 40, JPEG Quality: 6, SSIM: 0.8218, PSNR: 21.3337\n",
      "Iter: 20, Diff Quality: 7, SSIM: 0.8275, PSNR: 22.2702\n",
      "Iter: 20, JPEG Quality: 7, SSIM: 0.8345, PSNR: 21.8018\n",
      "Iter: 40, Diff Quality: 7, SSIM: 0.8270, PSNR: 22.2920\n",
      "Iter: 40, JPEG Quality: 7, SSIM: 0.8332, PSNR: 21.8158\n",
      "Iter: 20, Diff Quality: 8, SSIM: 0.8215, PSNR: 22.4767\n",
      "Iter: 20, JPEG Quality: 8, SSIM: 0.8013, PSNR: 22.2228\n",
      "Iter: 40, Diff Quality: 8, SSIM: 0.8235, PSNR: 22.4539\n",
      "Iter: 40, JPEG Quality: 8, SSIM: 0.8028, PSNR: 22.2002\n",
      "Iter: 20, Diff Quality: 9, SSIM: 0.8239, PSNR: 22.5441\n",
      "Iter: 20, JPEG Quality: 9, SSIM: 0.8377, PSNR: 22.6156\n",
      "Iter: 40, Diff Quality: 9, SSIM: 0.8256, PSNR: 22.5350\n",
      "Iter: 40, JPEG Quality: 9, SSIM: 0.8380, PSNR: 22.5993\n",
      "Iter: 20, Diff Quality: 10, SSIM: 0.8318, PSNR: 22.4975\n",
      "Iter: 20, JPEG Quality: 10, SSIM: 0.8539, PSNR: 22.8921\n",
      "Iter: 40, Diff Quality: 10, SSIM: 0.8302, PSNR: 22.5120\n",
      "Iter: 40, JPEG Quality: 10, SSIM: 0.8531, PSNR: 22.8860\n"
     ]
    }
   ],
   "source": [
    "qualities = [1, 2, 3, 4, 5, 6, 7, 8, 9, 10]\n",
    "comp_ratio = []\n",
    "ssim_jpeg_list = []\n",
    "ssim_diff_list = []\n",
    "psnr_jpeg_list = []\n",
    "psnr_diff_list = []\n",
    "# lpips_jpeg_list = []\n",
    "# lpips_diff_list = []\n",
    "select_t = 0.3 #@param {'type':'number'}\n",
    "\n",
    "for quality in qualities:\n",
    "    i = 0\n",
    "    num_items = 0\n",
    "    # jpeg_lpips = 0\n",
    "    jpeg_ssim = 0\n",
    "    jpeg_psnr = 0\n",
    "    # diff_lpips = 0\n",
    "    diff_ssim = 0\n",
    "    diff_psnr = 0\n",
    "    _, (x, y) = next(enumerate(data_loader))\n",
    "    imgs_int = (x.clone().detach()*255).to(dtype=torch.uint8)\n",
    "    # compute the compression ratio\n",
    "    comp_ratio.append(torchvision.io.encode_jpeg(imgs_int[0].cpu(), quality=quality).shape[0]/784)\n",
    "    with torch.no_grad():\n",
    "        for x, y in data_loader:\n",
    "            i += 1\n",
    "            x = x.to(device)\n",
    "            num_items += x.shape[0]\n",
    "            # decode x with jpeg, range 0-1\n",
    "            x_jpeg = jpeg_compress(x, quality=quality).to(device)\n",
    "            # decode with diffusion model\n",
    "            x_ = forward_process(x, marginal_prob_std_fn, 500, device=device, end_t=select_t, only_final=True)\n",
    "            jscc_x = autoencoder(x_)\n",
    "            # range: 0-1\n",
    "            samples = sampler(score_model,\n",
    "                    marginal_prob_std_fn,\n",
    "                    diffusion_coeff_fn,\n",
    "                    sample_batch_size,\n",
    "                    device=device,\n",
    "                    x=jscc_x.detach(),\n",
    "                    z=x_jpeg.reshape(x_jpeg.shape[0], -1),\n",
    "                    start_t=select_t,\n",
    "                    ).type_as(x)\n",
    "            samples = samples.clamp(0.0, 1.0)\n",
    "            # compute the metrics\n",
    "            # jpeg_lpips += lpips(x_jpeg, x).item()\n",
    "            # diff_lpips += lpips(samples, x).item()\n",
    "\n",
    "            jpeg_ssim += ssim(x_jpeg, x).item()\n",
    "            diff_ssim += ssim(samples, x).item()\n",
    "\n",
    "            jpeg_psnr += psnr(x_jpeg, x).item()\n",
    "            diff_psnr += psnr(samples, x).item()\n",
    "\n",
    "            if i % 20 == 0:\n",
    "                print(f'Iter: {i}, Diff Quality: {quality}, SSIM: {diff_ssim/i:.4f}, PSNR: {diff_psnr/i:.4f}')\n",
    "                print(f'Iter: {i}, JPEG Quality: {quality}, SSIM: {jpeg_ssim/i:.4f}, PSNR: {jpeg_psnr/i:.4f}')\n",
    "            if i >= 40:\n",
    "                break\n",
    "    # Print the averaged training loss so far.\n",
    "    ssim_jpeg_list.append(jpeg_ssim/i)\n",
    "    ssim_diff_list.append(diff_ssim/i)\n",
    "    psnr_jpeg_list.append(jpeg_psnr/i)\n",
    "    psnr_diff_list.append(diff_psnr/i)\n",
    "    # lpips_jpeg_list.append(jpeg_lpips/num_items)\n",
    "    # lpips_diff_list.append(diff_lpips/num_items)"
   ]
  },
  {
   "cell_type": "code",
   "execution_count": 16,
   "metadata": {},
   "outputs": [
    {
     "data": {
      "text/plain": [
       "[20.419608640670777,\n",
       " 20.412261772155762,\n",
       " 20.97877688407898,\n",
       " 21.555974102020265,\n",
       " 21.925804567337035,\n",
       " 22.19459972381592,\n",
       " 22.291951513290407,\n",
       " 22.453868865966797,\n",
       " 22.534952640533447,\n",
       " 22.51202473640442]"
      ]
     },
     "execution_count": 16,
     "metadata": {},
     "output_type": "execute_result"
    }
   ],
   "source": [
    "psnr_diff_list"
   ]
  },
  {
   "cell_type": "code",
   "execution_count": 18,
   "metadata": {},
   "outputs": [],
   "source": [
    "ssim_jpeg_list = [0.7527,\n",
    "  0.7548,\n",
    "  0.7608,\n",
    "  0.7707,\n",
    "  0.7880,\n",
    "  0.8085,\n",
    "  0.8127,\n",
    "  0.8258,\n",
    "  0.8292,\n",
    "  0.8319]\n",
    "\n",
    "ssim_diff_list = [0.7854,\n",
    "  0.7868,\n",
    "  0.7969,\n",
    "  0.8074,\n",
    "  0.8098,\n",
    "  0.8223,\n",
    "  0.8257,\n",
    "  0.8300,\n",
    "  0.8378,\n",
    "  0.8404]"
   ]
  },
  {
   "cell_type": "code",
   "execution_count": 29,
   "metadata": {},
   "outputs": [],
   "source": [
    "psnr_jpeg_list = [18.8271,\n",
    "  18.8364,\n",
    "  19.3633,\n",
    "  20.0757,\n",
    "  20.5261,\n",
    "  21.2845,\n",
    "  21.8268,\n",
    "  22.1790,\n",
    "  22.4879,\n",
    "  22.5301]\n",
    "\n",
    "psnr_diff_list = [20.4525,\n",
    "  20.4799,\n",
    "  21.0669,\n",
    "  21.6561,\n",
    "  21.9831,\n",
    "  22.2463,\n",
    "  22.3862,\n",
    "  22.5154,\n",
    "  22.6728,\n",
    "  22.7423]"
   ]
  },
  {
   "cell_type": "code",
   "execution_count": 9,
   "metadata": {},
   "outputs": [],
   "source": [
    "# comp_ratio = [0.45938775510204084,\n",
    "#  0.4604591836734694,\n",
    "#  0.46683673469387754,\n",
    "#  0.4770408163265306,\n",
    "#  0.48086734693877553,\n",
    "#  0.4885204081632653,\n",
    "#  0.49489795918367346,\n",
    "#  0.5121326530612245,\n",
    "#  0.5197551020408163,\n",
    "#  0.5229591836734694,]\n",
    "comp_ratio = [0.459, 0.460, 0.466, 0.477, 0.480, 0.488, 0.494, 0.512, 0.519, 0.522,]"
   ]
  },
  {
   "cell_type": "code",
   "execution_count": 13,
   "metadata": {},
   "outputs": [
    {
     "data": {
      "text/plain": [
       "[0.7868761852383613,\n",
       " 0.785367813706398,\n",
       " 0.8019600063562393,\n",
       " 0.809883151948452,\n",
       " 0.8071511760354042,\n",
       " 0.8210455983877182,\n",
       " 0.8256680414080619,\n",
       " 0.8243704169988633,\n",
       " 0.8296923413872719,\n",
       " 0.8317115932703019]"
      ]
     },
     "execution_count": 13,
     "metadata": {},
     "output_type": "execute_result"
    }
   ],
   "source": [
    "ssim_diff_list"
   ]
  },
  {
   "cell_type": "code",
   "execution_count": 10,
   "metadata": {},
   "outputs": [
    {
     "data": {
      "text/plain": [
       "<matplotlib.legend.Legend at 0x7f987dfa1fd0>"
      ]
     },
     "execution_count": 10,
     "metadata": {},
     "output_type": "execute_result"
    },
    {
     "data": {
      "image/png": "[encoded data removed]",
      "text/plain": [
       "<Figure size 432x288 with 1 Axes>"
      ]
     },
     "metadata": {
      "needs_background": "light"
     },
     "output_type": "display_data"
    }
   ],
   "source": [
    "import matplotlib.pyplot as plt\n",
    "\n",
    "plt.plot(comp_ratio, ssim_jpeg_list, 'bo-', label='JPEG')\n",
    "plt.plot(comp_ratio, ssim_diff_list, 'ro-.', label='Ours (Diffusion)')\n",
    "plt.xlabel('Compression Ratio')\n",
    "plt.ylabel('SSIM')\n",
    "plt.legend()\n",
    "# plt.savefig('ssim.png')"
   ]
  },
  {
   "cell_type": "code",
   "execution_count": 11,
   "metadata": {},
   "outputs": [
    {
     "data": {
      "text/plain": [
       "<matplotlib.legend.Legend at 0x7f987df1fdd0>"
      ]
     },
     "execution_count": 11,
     "metadata": {},
     "output_type": "execute_result"
    },
    {
     "data": {
      "image/png": "[encoded data removed]",
      "text/plain": [
       "<Figure size 432x288 with 1 Axes>"
      ]
     },
     "metadata": {
      "needs_background": "light"
     },
     "output_type": "display_data"
    }
   ],
   "source": [
    "plt.plot(comp_ratio, psnr_jpeg_list, 'bo-', label='JPEG')\n",
    "plt.plot(comp_ratio, psnr_diff_list, 'ro-.', label='Ours (Diffusion)')\n",
    "plt.xlabel('Compression Ratio')\n",
    "plt.ylabel('PSNR')\n",
    "plt.legend()\n",
    "# plt.savefig('psnr.png')"
   ]
  },
  {
   "cell_type": "code",
   "execution_count": 14,
   "metadata": {},
   "outputs": [],
   "source": [
    "ssim_jpeg_list1 = [0.7527, 0.7548, 0.7608, 0.7707, 0.7880, 0.8085, 0.8127, 0.8258, 0.8292, 0.8319]\n",
    "\n",
    "psnr_jpeg_list1 = [18.8271, 18.8364, 19.3633, 20.0757, 20.5261, 21.2845, 21.8268, 22.1790, 22.4879, 22.5301]"
   ]
  },
  {
   "cell_type": "code",
   "execution_count": 15,
   "metadata": {},
   "outputs": [
    {
     "data": {
      "text/plain": [
       "<matplotlib.legend.Legend at 0x7f987d402e50>"
      ]
     },
     "execution_count": 15,
     "metadata": {},
     "output_type": "execute_result"
    },
    {
     "data": {
      "image/png": "[encoded data removed]",
      "text/plain": [
       "<Figure size 432x288 with 1 Axes>"
      ]
     },
     "metadata": {
      "needs_background": "light"
     },
     "output_type": "display_data"
    }
   ],
   "source": [
    "import matplotlib.pyplot as plt\n",
    "\n",
    "plt.plot(comp_ratio, ssim_jpeg_list1, 'bo-', label='JPEG')\n",
    "plt.plot(comp_ratio, ssim_diff_list, 'ro-.', label='Ours (Diffusion)')\n",
    "plt.xlabel('Compression Ratio')\n",
    "plt.ylabel('SSIM')\n",
    "plt.legend()\n",
    "# plt.savefig('ssim.png')"
   ]
  },
  {
   "cell_type": "code",
   "execution_count": 1,
   "metadata": {},
   "outputs": [],
   "source": [
    "comp_ratio = [0.459, 0.460, 0.466, 0.477, 0.480, 0.488, 0.494, 0.512, 0.519, 0.522,]\n",
    "\n",
    "ssim_jpeg_list = [0.7527, 0.7548, 0.7608, 0.7707, 0.7880, 0.8085, 0.8127, 0.8258, 0.8292, 0.8319]\n",
    "\n",
    "ssim_diff_list = [0.7854, 0.7868, 0.7969, 0.8074, 0.8098, 0.8223, 0.8257, 0.8300, 0.8378, 0.8404]\n",
    "\n",
    "psnr_jpeg_list = [18.8271, 18.8364, 19.3633, 20.0757, 20.5261, 21.2845, 21.8268, 22.1790, 22.4879, 22.5301]\n",
    "\n",
    "psnr_diff_list = [20.4525, 20.4799, 21.0669, 21.6561, 21.9831, 22.2463, 22.3862, 22.5154, 22.6728, 22.7423]"
   ]
  },
  {
   "cell_type": "code",
   "execution_count": 12,
   "metadata": {},
   "outputs": [],
   "source": [
    "ssim_diff_list1 = [0.7868761852383613,\n",
    " 0.785367813706398,\n",
    " 0.8019600063562393,\n",
    " 0.809883151948452,\n",
    " 0.8171511760354042,\n",
    " 0.8210455983877182,\n",
    " 0.8256680414080619,\n",
    " 0.8293704169988633,\n",
    " 0.8316923413872719,\n",
    " 0.8347115932703019]\n",
    "\n",
    "psnr_diff_list1 = [20.400404739379884,\n",
    " 20.39561743736267,\n",
    " 20.96944236755371,\n",
    " 21.582391881942748,\n",
    " 21.916497468948364,\n",
    " 22.20316061973572,\n",
    " 22.321339702606203,\n",
    " 22.44948492050171,\n",
    " 22.447235679626466,\n",
    " 22.55650444984436]\n",
    "\n",
    "# test snr = 20\n",
    "ssim_diff_list2 = [0.7845661699771881,\n",
    " 0.7862449929118156,\n",
    " 0.8016444176435471,\n",
    " 0.8083402678370476,\n",
    " 0.8176458469033241,\n",
    " 0.8229997292160988,\n",
    " 0.8246623933315277,\n",
    " 0.8298508605837822,\n",
    " 0.8335487135648727,\n",
    " 0.8358279255628586]\n",
    "\n",
    "psnr_diff_list2 = [20.43905701637268,\n",
    " 20.440353918075562,\n",
    " 20.92449140548706,\n",
    " 21.62637825012207,\n",
    " 21.90460572242737,\n",
    " 22.206147766113283,\n",
    " 22.298089122772218,\n",
    " 22.442067050933836,\n",
    " 22.470946550369263,\n",
    " 22.55515151977539]\n",
    "\n",
    "# test snr = 30\n",
    "ssim_diff_list3 = [0.7854767933487892,\n",
    " 0.7863906517624855,\n",
    " 0.7978707700967789,\n",
    " 0.810604241490364,\n",
    " 0.8167323967814446,\n",
    " 0.8201834455132484,\n",
    " 0.8261356964707375,\n",
    " 0.8293342260122299,\n",
    " 0.8337876730561257,\n",
    " 0.836965415596962]\n",
    "\n",
    "psnr_diff_list3 = [20.46505751609802,\n",
    " 20.377599668502807,\n",
    " 20.968099737167357,\n",
    " 21.562924718856813,\n",
    " 21.92448854446411,\n",
    " 22.18878331184387,\n",
    " 22.345672798156738,\n",
    " 22.43310179710388,\n",
    " 22.496026849746706,\n",
    " 22.550580987930298]\n",
    "\n",
    "# test snr = 40\n",
    "\n",
    "ssim_diff_list4 = [0.7870122998952865,\n",
    " 0.7881871059536933,\n",
    " 0.7982945710420608,\n",
    " 0.8100518211722374,\n",
    " 0.817234013080597,\n",
    " 0.8245720803737641,\n",
    " 0.8269795313477516,\n",
    " 0.830491384088993,\n",
    " 0.8355799427628517,\n",
    " 0.8372495256066322]\n",
    "\n",
    "psnr_diff_list4 = [20.419608640670777,\n",
    " 20.412261772155762,\n",
    " 20.97877688407898,\n",
    " 21.555974102020265,\n",
    " 21.925804567337035,\n",
    " 22.19459972381592,\n",
    " 22.291951513290407,\n",
    " 22.453868865966797,\n",
    " 22.534952640533447,\n",
    " 22.55202473640442]"
   ]
  },
  {
   "cell_type": "code",
   "execution_count": 13,
   "metadata": {},
   "outputs": [
    {
     "data": {
      "text/plain": [
       "<matplotlib.legend.Legend at 0x7f68b4361810>"
      ]
     },
     "execution_count": 13,
     "metadata": {},
     "output_type": "execute_result"
    },
    {
     "data": {
      "image/png": "[encoded data removed]",
      "text/plain": [
       "<Figure size 432x288 with 1 Axes>"
      ]
     },
     "metadata": {
      "needs_background": "light"
     },
     "output_type": "display_data"
    }
   ],
   "source": [
    "import matplotlib.pyplot as plt\n",
    "plt.plot(comp_ratio, psnr_jpeg_list, 'bo-', label='JPEG')\n",
    "plt.plot(comp_ratio, psnr_diff_list1, 'ro-.', label='Ours (Diffusion) snr=10')\n",
    "plt.plot(comp_ratio, psnr_diff_list2, 'o-.', label='Ours (Diffusion) snr=20')\n",
    "plt.plot(comp_ratio, psnr_diff_list3, 'o-.', label='Ours (Diffusion) snr=30')\n",
    "plt.plot(comp_ratio, psnr_diff_list4, 'o-.', label='Ours (Diffusion) snr=40')\n",
    "plt.xlabel('Compression Ratio')\n",
    "plt.ylabel('PSNR')\n",
    "plt.legend()\n",
    "# plt.savefig('psnr.png')"
   ]
  },
  {
   "cell_type": "code",
   "execution_count": 11,
   "metadata": {},
   "outputs": [
    {
     "data": {
      "text/plain": [
       "<matplotlib.legend.Legend at 0x7f68b43d7c90>"
      ]
     },
     "execution_count": 11,
     "metadata": {},
     "output_type": "execute_result"
    },
    {
     "data": {
      "image/png": "[encoded data removed]",
      "text/plain": [
       "<Figure size 432x288 with 1 Axes>"
      ]
     },
     "metadata": {
      "needs_background": "light"
     },
     "output_type": "display_data"
    }
   ],
   "source": [
    "import matplotlib.pyplot as plt\n",
    "plt.plot(comp_ratio, ssim_jpeg_list, 'bo-', label='JPEG')\n",
    "plt.plot(comp_ratio, ssim_diff_list1, 'ro-.', label='Ours (Diffusion) snr=10')\n",
    "plt.plot(comp_ratio, ssim_diff_list2, 'o-.', label='Ours (Diffusion) snr=20')\n",
    "plt.plot(comp_ratio, ssim_diff_list3, 'o-.', label='Ours (Diffusion) snr=30')\n",
    "plt.plot(comp_ratio, ssim_diff_list4, 'o-.', label='Ours (Diffusion) snr=40')\n",
    "plt.xlabel('Compression Ratio')\n",
    "plt.ylabel('SSIM')\n",
    "plt.legend()\n",
    "# plt.savefig('psnr.png')"
   ]
  },
  {
   "cell_type": "code",
   "execution_count": null,
   "metadata": {},
   "outputs": [],
   "source": []
  }
 ],
 "metadata": {
  "kernelspec": {
   "display_name": "torch",
   "language": "python",
   "name": "python3"
  },
  "language_info": {
   "codemirror_mode": {
    "name": "ipython",
    "version": 3
   },
   "file_extension": ".py",
   "mimetype": "text/x-python",
   "name": "python",
   "nbconvert_exporter": "python",
   "pygments_lexer": "ipython3",
   "version": "3.7.7"
  },
  "orig_nbformat": 4,
  "vscode": {
   "interpreter": {
    "hash": "52b3e5fe9304ee37ed6fc02b58fb2a8a470f895336a7b69fe331a7c2f400c80f"
   }
  }
 },
 "nbformat": 4,
 "nbformat_minor": 2
}
